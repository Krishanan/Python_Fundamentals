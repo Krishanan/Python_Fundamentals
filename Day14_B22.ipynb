{
 "cells": [
  {
   "cell_type": "code",
   "execution_count": null,
   "metadata": {},
   "outputs": [],
   "source": [
    "#Introduction to Constructor"
   ]
  },
  {
   "cell_type": "code",
   "execution_count": 3,
   "metadata": {},
   "outputs": [],
   "source": [
    "class Dog:\n",
    "    def __init__(self, type, name):  #Constructor method\n",
    "        self.name = name\n",
    "        self.type = type\n",
    "        print(\"Print automatically\")\n",
    "        \n",
    "    def sit(self):\n",
    "        print(f\"{self.name} is sitting now\")\n",
    "        \n",
    "    def roll(self):\n",
    "        print(f\"{self.name} is rolling now\")\n",
    "        \n",
    "    def jump(self):\n",
    "        print(f\"{self.name} is jumping now\")\n",
    "        \n",
    "    def sleep(self):\n",
    "        print(f\"{self.name} is sleeping now\")\n",
    "        \n",
    "    def talk(self):\n",
    "        print(f\"{self.name} is talking now\")\n",
    "        \n",
    "    def detail(self):\n",
    "        print(f\"My dog name is {self.name} and its type is {self.type}\")"
   ]
  },
  {
   "cell_type": "code",
   "execution_count": 4,
   "metadata": {},
   "outputs": [
    {
     "name": "stdout",
     "output_type": "stream",
     "text": [
      "Print automatically\n"
     ]
    }
   ],
   "source": [
    "x = Dog(type = \"Rex\",name = \"Rose\") #Invoking class\n"
   ]
  },
  {
   "cell_type": "code",
   "execution_count": 5,
   "metadata": {},
   "outputs": [
    {
     "name": "stdout",
     "output_type": "stream",
     "text": [
      "Rose is sitting now\n"
     ]
    }
   ],
   "source": [
    "x.sit()"
   ]
  },
  {
   "cell_type": "code",
   "execution_count": 6,
   "metadata": {},
   "outputs": [
    {
     "name": "stdout",
     "output_type": "stream",
     "text": [
      "Rose is jumping now\n"
     ]
    }
   ],
   "source": [
    "x.jump()"
   ]
  },
  {
   "cell_type": "code",
   "execution_count": 7,
   "metadata": {},
   "outputs": [
    {
     "name": "stdout",
     "output_type": "stream",
     "text": [
      "My dog name is Rose and its type is Rex\n"
     ]
    }
   ],
   "source": [
    "x.detail()"
   ]
  },
  {
   "cell_type": "code",
   "execution_count": null,
   "metadata": {},
   "outputs": [],
   "source": []
  }
 ],
 "metadata": {
  "kernelspec": {
   "display_name": "Python 3",
   "language": "python",
   "name": "python3"
  },
  "language_info": {
   "codemirror_mode": {
    "name": "ipython",
    "version": 3
   },
   "file_extension": ".py",
   "mimetype": "text/x-python",
   "name": "python",
   "nbconvert_exporter": "python",
   "pygments_lexer": "ipython3",
   "version": "3.7.6"
  }
 },
 "nbformat": 4,
 "nbformat_minor": 4
}
