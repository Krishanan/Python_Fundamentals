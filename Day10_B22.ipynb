{
 "cells": [
  {
   "cell_type": "code",
   "execution_count": null,
   "metadata": {},
   "outputs": [],
   "source": [
    "#how to calc even or odd num"
   ]
  },
  {
   "cell_type": "code",
   "execution_count": 1,
   "metadata": {},
   "outputs": [
    {
     "name": "stdout",
     "output_type": "stream",
     "text": [
      "Enter a number to show even or odd : 2568\n",
      "\n",
      "The given number 2568 is even.\n"
     ]
    }
   ],
   "source": [
    "num = input (\"Enter a number to show even or odd : \")\n",
    "num = int(num)\n",
    "\n",
    "if num % 2 == 0:\n",
    "    print(f\"\\nThe given number {num} is even.\")\n",
    "else:\n",
    "    print(f\"\\nThe given number {num} is odd.\")"
   ]
  },
  {
   "cell_type": "code",
   "execution_count": 2,
   "metadata": {},
   "outputs": [
    {
     "name": "stdout",
     "output_type": "stream",
     "text": [
      "Enter a number to show even or odd : 7893\n",
      "\n",
      "The given number 7893 is odd.\n"
     ]
    }
   ],
   "source": [
    "num = input (\"Enter a number to show even or odd : \")\n",
    "num = int(num)\n",
    "\n",
    "if num % 2 == 0:\n",
    "    print(f\"\\nThe given number {num} is even.\")\n",
    "else:\n",
    "    print(f\"\\nThe given number {num} is odd.\")"
   ]
  },
  {
   "cell_type": "code",
   "execution_count": null,
   "metadata": {},
   "outputs": [],
   "source": [
    "#while loop"
   ]
  },
  {
   "cell_type": "code",
   "execution_count": 3,
   "metadata": {},
   "outputs": [
    {
     "name": "stdout",
     "output_type": "stream",
     "text": [
      "1\n",
      "2\n",
      "3\n",
      "4\n",
      "5\n",
      "6\n"
     ]
    }
   ],
   "source": [
    "c_num = 1\n",
    "\n",
    "while c_num <= 6:\n",
    "    print(c_num)\n",
    "    c_num += 1"
   ]
  },
  {
   "cell_type": "code",
   "execution_count": 4,
   "metadata": {},
   "outputs": [
    {
     "name": "stdout",
     "output_type": "stream",
     "text": [
      "Do you want to Exit?\n",
      "Enter Yes to exit.Yes\n",
      "Screen will close\n"
     ]
    }
   ],
   "source": [
    "prompt = \"Do you want to Exit?\"\n",
    "prompt += \"\\nEnter Yes to exit.\"\n",
    "\n",
    "Ans = input(prompt)\n",
    "\n",
    "while True:\n",
    "    if Ans == 'Yes':\n",
    "        print (\"Screen will close\")\n",
    "        break\n",
    "    else:\n",
    "        print(\"Screen will redirect to Home screen\")\n",
    "        break"
   ]
  },
  {
   "cell_type": "code",
   "execution_count": 5,
   "metadata": {},
   "outputs": [
    {
     "name": "stdout",
     "output_type": "stream",
     "text": [
      "Do you want to Exit?\n",
      "Enter Yes to exit.yes\n",
      "Screen will redirect to Home screen\n"
     ]
    }
   ],
   "source": [
    "prompt = \"Do you want to Exit?\"\n",
    "prompt += \"\\nEnter Yes to exit.\"\n",
    "\n",
    "Ans = input(prompt)\n",
    "\n",
    "while True:\n",
    "    if Ans == 'Yes':\n",
    "        print (\"Screen will close\")\n",
    "        break\n",
    "    else:\n",
    "        print(\"Screen will redirect to Home screen\")\n",
    "        break"
   ]
  },
  {
   "cell_type": "code",
   "execution_count": 6,
   "metadata": {},
   "outputs": [
    {
     "name": "stdout",
     "output_type": "stream",
     "text": [
      "Do you want to Exit?\n",
      "Enter Yes to exit.yes\n",
      "Screen will close\n"
     ]
    }
   ],
   "source": [
    "prompt = \"Do you want to Exit?\"\n",
    "prompt += \"\\nEnter Yes to exit.\"\n",
    "\n",
    "Ans = input(prompt)\n",
    "Ans = Ans.title()\n",
    "\n",
    "while True:\n",
    "    if Ans == 'Yes'or Ans == 'Y':\n",
    "        print (\"Screen will close\")\n",
    "        break\n",
    "    else:\n",
    "        print(\"Screen will redirect to Home screen\")\n",
    "        break"
   ]
  },
  {
   "cell_type": "code",
   "execution_count": null,
   "metadata": {},
   "outputs": [
    {
     "name": "stdout",
     "output_type": "stream",
     "text": [
      "Do you want to Exit?\n",
      "Enter Yes to exit.yes\n",
      "Screen will redirect to Home screen\n",
      "Do you want to Exit?\n",
      "Enter Yes to exit.yes\n",
      "Screen will redirect to Home screen\n",
      "Do you want to Exit?\n",
      "Enter Yes to exit.no\n",
      "Screen will redirect to Home screen\n"
     ]
    }
   ],
   "source": [
    "while True:\n",
    "    prompt = \"Do you want to Exit?\"\n",
    "    prompt += \"\\nEnter Yes to exit.\"\n",
    "\n",
    "    Ans = input(prompt)\n",
    "    Ans = Ans.title()\n",
    "    \n",
    "    if Ans == 'Yes':\n",
    "        print (\"Screen will close\")\n",
    "        continue\n",
    "    else:\n",
    "        print(\"Screen will redirect to Home screen\")\n",
    "        continue"
   ]
  },
  {
   "cell_type": "code",
   "execution_count": null,
   "metadata": {},
   "outputs": [],
   "source": []
  },
  {
   "cell_type": "code",
   "execution_count": null,
   "metadata": {},
   "outputs": [],
   "source": []
  },
  {
   "cell_type": "code",
   "execution_count": null,
   "metadata": {},
   "outputs": [],
   "source": []
  },
  {
   "cell_type": "code",
   "execution_count": null,
   "metadata": {},
   "outputs": [],
   "source": []
  },
  {
   "cell_type": "code",
   "execution_count": null,
   "metadata": {},
   "outputs": [],
   "source": []
  },
  {
   "cell_type": "code",
   "execution_count": null,
   "metadata": {},
   "outputs": [],
   "source": []
  }
 ],
 "metadata": {
  "kernelspec": {
   "display_name": "Python 3",
   "language": "python",
   "name": "python3"
  },
  "language_info": {
   "codemirror_mode": {
    "name": "ipython",
    "version": 3
   },
   "file_extension": ".py",
   "mimetype": "text/x-python",
   "name": "python",
   "nbconvert_exporter": "python",
   "pygments_lexer": "ipython3",
   "version": "3.7.6"
  }
 },
 "nbformat": 4,
 "nbformat_minor": 4
}
