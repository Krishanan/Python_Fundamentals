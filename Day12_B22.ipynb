{
 "cells": [
  {
   "cell_type": "code",
   "execution_count": null,
   "metadata": {},
   "outputs": [],
   "source": [
    "#Introduction to type of Arguments"
   ]
  },
  {
   "cell_type": "code",
   "execution_count": null,
   "metadata": {},
   "outputs": [],
   "source": [
    "Doc String? = Commenting inside the function\n",
    "Parameter ? = Passing the variable in function definition\n",
    "Argument? = Passing the Variable while calling the function"
   ]
  },
  {
   "cell_type": "code",
   "execution_count": 4,
   "metadata": {},
   "outputs": [
    {
     "name": "stdout",
     "output_type": "stream",
     "text": [
      "I have a hyundai car\n",
      "My hyundai car color is silver\n"
     ]
    }
   ],
   "source": [
    "def car(type, color):\n",
    "    \"\"\"Creating the function to define the car\"\"\"\n",
    "    print(f\"I have a {type} car\")\n",
    "    print(f\"My {type} car color is {color}\")\n",
    "    \n",
    "car(\"hyundai\",\"silver\")"
   ]
  },
  {
   "cell_type": "code",
   "execution_count": 7,
   "metadata": {},
   "outputs": [
    {
     "name": "stdout",
     "output_type": "stream",
     "text": [
      "I have a Hyundai car\n",
      "My Hyundai car color is Silver\n",
      "I have a Silver car\n",
      "My Silver car color is Hyundai\n"
     ]
    }
   ],
   "source": [
    "# 1. Positional Arguments\n",
    "def car(model, color):\n",
    "    \"\"\"Creating the function to define the car\"\"\"\n",
    "    print(f\"I have a {model.title()} car\")\n",
    "    print(f\"My {model.title()} car color is {color.title()}\")\n",
    "    \n",
    "car(\"hyundai\",\"silver\")\n",
    "car(\"silver\",\"hyundai\") #Position changed, not recommended. To avoid this, use \"keyword\" while passing the parameter"
   ]
  },
  {
   "cell_type": "code",
   "execution_count": 6,
   "metadata": {},
   "outputs": [
    {
     "name": "stdout",
     "output_type": "stream",
     "text": [
      "I have a Hyundai car\n",
      "My Hyundai car color is Silver\n"
     ]
    }
   ],
   "source": [
    "# 2. Keyword Arguments\n",
    "\n",
    "def car(model, color):\n",
    "    \"\"\"Creating the function to define the car\"\"\"\n",
    "    print(f\"I have a {model.title()} car\")\n",
    "    print(f\"My {model.title()} car color is {color.title()}\")\n",
    "    \n",
    "car(color = \"silver\", model = \"hyundai\")"
   ]
  },
  {
   "cell_type": "code",
   "execution_count": 8,
   "metadata": {},
   "outputs": [
    {
     "name": "stdout",
     "output_type": "stream",
     "text": [
      "I have a Hyundai car\n",
      "My Hyundai car color is Silver\n"
     ]
    }
   ],
   "source": [
    "# 3. Default Parameter\n",
    "\n",
    "def car(model, color = \"silver\"):\n",
    "    \"\"\"Creating the function to define the car\"\"\"\n",
    "    print(f\"I have a {model.title()} car\")\n",
    "    print(f\"My {model.title()} car color is {color.title()}\")\n",
    "    \n",
    "car(\"hyundai\")"
   ]
  },
  {
   "cell_type": "code",
   "execution_count": 9,
   "metadata": {},
   "outputs": [
    {
     "name": "stdout",
     "output_type": "stream",
     "text": [
      "I have a Hyundai car\n",
      "My Hyundai car color is Red\n"
     ]
    }
   ],
   "source": [
    "# 3. Default Parameter\n",
    "\n",
    "def car(model, color = \"silver\"):\n",
    "    \"\"\"Creating the function to define the car\"\"\"\n",
    "    print(f\"I have a {model.title()} car\")\n",
    "    print(f\"My {model.title()} car color is {color.title()}\")\n",
    "    \n",
    "car(\"hyundai\", \"Red\") #Overide the parameter"
   ]
  },
  {
   "cell_type": "code",
   "execution_count": 13,
   "metadata": {},
   "outputs": [
    {
     "name": "stdout",
     "output_type": "stream",
     "text": [
      "Olive\n"
     ]
    }
   ],
   "source": [
    "# 3. Arbituary Argument\n",
    "\n",
    "def pizza(toppings):\n",
    "    \"\"\"Creating the function to define the pizza\"\"\"\n",
    "    print(toppings)\n",
    "    \n",
    "pizza(\"Olive\")"
   ]
  },
  {
   "cell_type": "code",
   "execution_count": 12,
   "metadata": {},
   "outputs": [
    {
     "ename": "TypeError",
     "evalue": "pizza() takes 1 positional argument but 2 were given",
     "output_type": "error",
     "traceback": [
      "\u001b[1;31m---------------------------------------------------------------------------\u001b[0m",
      "\u001b[1;31mTypeError\u001b[0m                                 Traceback (most recent call last)",
      "\u001b[1;32m<ipython-input-12-85fa8d92ddb0>\u001b[0m in \u001b[0;36m<module>\u001b[1;34m\u001b[0m\n\u001b[1;32m----> 1\u001b[1;33m \u001b[0mpizza\u001b[0m\u001b[1;33m(\u001b[0m\u001b[1;34m\"Olive\"\u001b[0m\u001b[1;33m,\u001b[0m \u001b[1;34m\"Onion\"\u001b[0m\u001b[1;33m)\u001b[0m\u001b[1;33m\u001b[0m\u001b[1;33m\u001b[0m\u001b[0m\n\u001b[0m",
      "\u001b[1;31mTypeError\u001b[0m: pizza() takes 1 positional argument but 2 were given"
     ]
    }
   ],
   "source": [
    "pizza(\"Olive\", \"Onion\")"
   ]
  },
  {
   "cell_type": "code",
   "execution_count": 15,
   "metadata": {},
   "outputs": [
    {
     "name": "stdout",
     "output_type": "stream",
     "text": [
      "('Olive', 'Onion', 'salad')\n"
     ]
    }
   ],
   "source": [
    "\n",
    "def pizza(*toppings):  # * --> accepts multiple Arguements\n",
    "    \"\"\"Creating the function to define the pizza\"\"\"\n",
    "    print(toppings)\n",
    "        \n",
    "pizza(\"Olive\", \"Onion\", \"salad\")"
   ]
  },
  {
   "cell_type": "code",
   "execution_count": 18,
   "metadata": {},
   "outputs": [
    {
     "name": "stdout",
     "output_type": "stream",
     "text": [
      "I have ordered regular size with toppings of ('Olive', 'Onion', 'salad')\n"
     ]
    }
   ],
   "source": [
    "\n",
    "def pizza(size, *toppings):\n",
    "    \"\"\"Creating the function to define the pizza\"\"\"\n",
    "    print (f\"I have ordered {size} size with toppings of {toppings}\")\n",
    "     \n",
    "pizza(\"regular\", \"Olive\", \"Onion\", \"salad\")"
   ]
  },
  {
   "cell_type": "code",
   "execution_count": null,
   "metadata": {},
   "outputs": [],
   "source": []
  },
  {
   "cell_type": "code",
   "execution_count": null,
   "metadata": {},
   "outputs": [],
   "source": []
  },
  {
   "cell_type": "code",
   "execution_count": null,
   "metadata": {},
   "outputs": [],
   "source": []
  },
  {
   "cell_type": "code",
   "execution_count": null,
   "metadata": {},
   "outputs": [],
   "source": []
  }
 ],
 "metadata": {
  "kernelspec": {
   "display_name": "Python 3",
   "language": "python",
   "name": "python3"
  },
  "language_info": {
   "codemirror_mode": {
    "name": "ipython",
    "version": 3
   },
   "file_extension": ".py",
   "mimetype": "text/x-python",
   "name": "python",
   "nbconvert_exporter": "python",
   "pygments_lexer": "ipython3",
   "version": "3.7.6"
  }
 },
 "nbformat": 4,
 "nbformat_minor": 4
}
