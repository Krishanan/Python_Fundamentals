{
 "cells": [
  {
   "cell_type": "code",
   "execution_count": null,
   "metadata": {
    "collapsed": true
   },
   "outputs": [],
   "source": [
    "# Introduction to for loop:"
   ]
  },
  {
   "cell_type": "code",
   "execution_count": 1,
   "metadata": {
    "collapsed": true
   },
   "outputs": [],
   "source": [
    "bank_customers = ['ram','ravi','kiran','teja','sona','sana']"
   ]
  },
  {
   "cell_type": "code",
   "execution_count": 3,
   "metadata": {},
   "outputs": [
    {
     "name": "stdout",
     "output_type": "stream",
     "text": [
      "Wish you Happy New Year {'Ram'}\n"
     ]
    }
   ],
   "source": [
    "print(f'Wish you Happy New Year', {bank_customers[0].title()})"
   ]
  },
  {
   "cell_type": "code",
   "execution_count": 4,
   "metadata": {},
   "outputs": [
    {
     "name": "stdout",
     "output_type": "stream",
     "text": [
      "Wish you Happy New Year {'Ravi'}\n"
     ]
    }
   ],
   "source": [
    "print(f'Wish you Happy New Year', {bank_customers[1].title()})"
   ]
  },
  {
   "cell_type": "code",
   "execution_count": 14,
   "metadata": {},
   "outputs": [
    {
     "name": "stdout",
     "output_type": "stream",
     "text": [
      "Wish you Happy New Year, Ram\n",
      "Wish you Happy New Year, Ravi\n",
      "Wish you Happy New Year, Kiran\n",
      "Wish you Happy New Year, Teja\n",
      "Wish you Happy New Year, Sona\n",
      "Wish you Happy New Year, Sana\n"
     ]
    }
   ],
   "source": [
    "for customers in bank_customers:\n",
    "    print(f'Wish you Happy New Year, {customers.title()}')"
   ]
  },
  {
   "cell_type": "code",
   "execution_count": null,
   "metadata": {
    "collapsed": true
   },
   "outputs": [],
   "source": [
    "#Syntax:\n",
    "\n",
    "for tempvar in Mainvar:\n",
    "    print(tempvar) --> Indentation"
   ]
  },
  {
   "cell_type": "code",
   "execution_count": 7,
   "metadata": {
    "collapsed": true
   },
   "outputs": [],
   "source": [
    "my_students = ['ram','ravi','kiran','teja','sona','sana']"
   ]
  },
  {
   "cell_type": "code",
   "execution_count": null,
   "metadata": {
    "collapsed": true
   },
   "outputs": [],
   "source": [
    "#Appreciate Each Students"
   ]
  },
  {
   "cell_type": "code",
   "execution_count": 8,
   "metadata": {},
   "outputs": [
    {
     "name": "stdout",
     "output_type": "stream",
     "text": [
      "ram\n",
      "ravi\n",
      "kiran\n",
      "teja\n",
      "sona\n",
      "sana\n"
     ]
    }
   ],
   "source": [
    "for students in my_students:\n",
    "    print(students)"
   ]
  },
  {
   "cell_type": "code",
   "execution_count": 9,
   "metadata": {},
   "outputs": [
    {
     "name": "stdout",
     "output_type": "stream",
     "text": [
      "Keep up the good Work, Ram\n",
      "Keep up the good Work, Ravi\n",
      "Keep up the good Work, Kiran\n",
      "Keep up the good Work, Teja\n",
      "Keep up the good Work, Sona\n",
      "Keep up the good Work, Sana\n"
     ]
    }
   ],
   "source": [
    "for students in my_students:\n",
    "    print(f'Keep up the good Work, {students.title()}')"
   ]
  },
  {
   "cell_type": "code",
   "execution_count": null,
   "metadata": {
    "collapsed": true
   },
   "outputs": [],
   "source": [
    "# Additional Reqirement --> I am Waiting to receive your practice files by Today"
   ]
  },
  {
   "cell_type": "code",
   "execution_count": 11,
   "metadata": {},
   "outputs": [
    {
     "name": "stdout",
     "output_type": "stream",
     "text": [
      "Keep up the good Work, Ram\n",
      "I am waiting to receive your practice files by Today, Ram\n",
      "Keep up the good Work, Ravi\n",
      "I am waiting to receive your practice files by Today, Ravi\n",
      "Keep up the good Work, Kiran\n",
      "I am waiting to receive your practice files by Today, Kiran\n",
      "Keep up the good Work, Teja\n",
      "I am waiting to receive your practice files by Today, Teja\n",
      "Keep up the good Work, Sona\n",
      "I am waiting to receive your practice files by Today, Sona\n",
      "Keep up the good Work, Sana\n",
      "I am waiting to receive your practice files by Today, Sana\n"
     ]
    }
   ],
   "source": [
    "for y in my_students:\n",
    "    print(f'Keep up the good Work, {y.title()}')\n",
    "    print(f'I am waiting to receive your practice files by Today, {y.title()}')"
   ]
  },
  {
   "cell_type": "code",
   "execution_count": null,
   "metadata": {
    "collapsed": true
   },
   "outputs": [],
   "source": [
    "#Enhance the code --> to add new line"
   ]
  },
  {
   "cell_type": "code",
   "execution_count": 12,
   "metadata": {},
   "outputs": [
    {
     "name": "stdout",
     "output_type": "stream",
     "text": [
      "Keep up the good Work, Ram\n",
      "I am waiting to receive your practice files by Today, Ram\n",
      "\n",
      "Keep up the good Work, Ravi\n",
      "I am waiting to receive your practice files by Today, Ravi\n",
      "\n",
      "Keep up the good Work, Kiran\n",
      "I am waiting to receive your practice files by Today, Kiran\n",
      "\n",
      "Keep up the good Work, Teja\n",
      "I am waiting to receive your practice files by Today, Teja\n",
      "\n",
      "Keep up the good Work, Sona\n",
      "I am waiting to receive your practice files by Today, Sona\n",
      "\n",
      "Keep up the good Work, Sana\n",
      "I am waiting to receive your practice files by Today, Sana\n",
      "\n"
     ]
    }
   ],
   "source": [
    "for y in my_students:\n",
    "    print(f'Keep up the good Work, {y.title()}')\n",
    "    print(f'I am waiting to receive your practice files by Today, {y.title()}\\n')"
   ]
  },
  {
   "cell_type": "code",
   "execution_count": 13,
   "metadata": {},
   "outputs": [
    {
     "name": "stdout",
     "output_type": "stream",
     "text": [
      "Keep up the good Work, Ram\n",
      "I am waiting to receive your practice files by Today, Ram\n",
      "\n",
      "Keep up the good Work, Ravi\n",
      "I am waiting to receive your practice files by Today, Ravi\n",
      "\n",
      "Keep up the good Work, Kiran\n",
      "I am waiting to receive your practice files by Today, Kiran\n",
      "\n",
      "Keep up the good Work, Teja\n",
      "I am waiting to receive your practice files by Today, Teja\n",
      "\n",
      "Keep up the good Work, Sona\n",
      "I am waiting to receive your practice files by Today, Sona\n",
      "\n",
      "Keep up the good Work, Sana\n",
      "I am waiting to receive your practice files by Today, Sana\n",
      "\n",
      "Thank you for Joining\n"
     ]
    }
   ],
   "source": [
    "for y in my_students:\n",
    "    print(f'Keep up the good Work, {y.title()}')\n",
    "    print(f'I am waiting to receive your practice files by Today, {y.title()}\\n')\n",
    "print(\"Thank you for Joining\") #New line without indendation."
   ]
  },
  {
   "cell_type": "code",
   "execution_count": null,
   "metadata": {
    "collapsed": true
   },
   "outputs": [],
   "source": []
  }
 ],
 "metadata": {
  "kernelspec": {
   "display_name": "Python 3",
   "language": "python",
   "name": "python3"
  },
  "language_info": {
   "codemirror_mode": {
    "name": "ipython",
    "version": 3
   },
   "file_extension": ".py",
   "mimetype": "text/x-python",
   "name": "python",
   "nbconvert_exporter": "python",
   "pygments_lexer": "ipython3",
   "version": "3.6.1"
  }
 },
 "nbformat": 4,
 "nbformat_minor": 2
}
